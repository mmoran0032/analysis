{
 "cells": [
  {
   "cell_type": "markdown",
   "metadata": {},
   "source": [
    "Resonance Parameters\n",
    "============\n",
    "\n",
    "We can figure out our resonance parameters for the reaction by using the NNDC's database. Our compound nucleus is 28Si, so the we want to make sure we take the information from this one."
   ]
  },
  {
   "cell_type": "code",
   "execution_count": 1,
   "metadata": {
    "collapsed": true
   },
   "outputs": [],
   "source": [
    "%matplotlib inline\n",
    "\n",
    "import matplotlib.pyplot as plt\n",
    "import numpy as np\n",
    "import pandas as pd"
   ]
  },
  {
   "cell_type": "code",
   "execution_count": 25,
   "metadata": {
    "collapsed": false
   },
   "outputs": [
    {
     "data": {
      "text/html": [
       "<div>\n",
       "<table border=\"1\" class=\"dataframe\">\n",
       "  <thead>\n",
       "    <tr style=\"text-align: right;\">\n",
       "      <th></th>\n",
       "      <th>Elevel (keV)</th>\n",
       "      <th>XREF</th>\n",
       "      <th>Jπ</th>\n",
       "      <th>T1/2</th>\n",
       "      <th>Eγ (keV)</th>\n",
       "      <th>Iγ</th>\n",
       "      <th>γ mult.</th>\n",
       "      <th>Final level</th>\n",
       "      <th>Final level Jπ</th>\n",
       "    </tr>\n",
       "  </thead>\n",
       "  <tbody>\n",
       "    <tr>\n",
       "      <th>1</th>\n",
       "      <td>0.0</td>\n",
       "      <td>ABCDEFG IJKLMN P</td>\n",
       "      <td>0+</td>\n",
       "      <td>STABLE</td>\n",
       "      <td>NaN</td>\n",
       "      <td>NaN</td>\n",
       "      <td>NaN</td>\n",
       "      <td>NaN</td>\n",
       "      <td>NaN</td>\n",
       "    </tr>\n",
       "    <tr>\n",
       "      <th>2</th>\n",
       "      <td>1779.030 11</td>\n",
       "      <td>ABC IJK OP</td>\n",
       "      <td>2+</td>\n",
       "      <td>475 fs 17</td>\n",
       "      <td>1778.969 11</td>\n",
       "      <td>100</td>\n",
       "      <td>E2</td>\n",
       "      <td>0.0</td>\n",
       "      <td>0+</td>\n",
       "    </tr>\n",
       "    <tr>\n",
       "      <th>3</th>\n",
       "      <td>4617.86 4</td>\n",
       "      <td>BC IJK MN P</td>\n",
       "      <td>4+</td>\n",
       "      <td>37 fs 4</td>\n",
       "      <td>2838.29 15</td>\n",
       "      <td>100</td>\n",
       "      <td>(E2)</td>\n",
       "      <td>1779.030</td>\n",
       "      <td>2+</td>\n",
       "    </tr>\n",
       "    <tr>\n",
       "      <th>4</th>\n",
       "      <td>4979.92 8</td>\n",
       "      <td>B F IJK MN P</td>\n",
       "      <td>0+</td>\n",
       "      <td>35 fs 2</td>\n",
       "      <td>3200.7 5</td>\n",
       "      <td>100</td>\n",
       "      <td>E2</td>\n",
       "      <td>1779.030</td>\n",
       "      <td>2+</td>\n",
       "    </tr>\n",
       "    <tr>\n",
       "      <th>5</th>\n",
       "      <td>6276.20 7</td>\n",
       "      <td>B F IJK MN P</td>\n",
       "      <td>3+</td>\n",
       "      <td>0.78 ps 6</td>\n",
       "      <td>1658.2 4496.92 25</td>\n",
       "      <td>13.4 4 100.0 4</td>\n",
       "      <td>(M1+E2)</td>\n",
       "      <td>4617.86 1779.030</td>\n",
       "      <td>4+2+</td>\n",
       "    </tr>\n",
       "  </tbody>\n",
       "</table>\n",
       "</div>"
      ],
      "text/plain": [
       "0 Elevel (keV)              XREF  Jπ       T1/2           Eγ (keV)  \\\n",
       "1          0.0  ABCDEFG IJKLMN P  0+     STABLE                NaN   \n",
       "2  1779.030 11        ABC IJK OP  2+  475 fs 17        1778.969 11   \n",
       "3    4617.86 4       BC IJK MN P  4+    37 fs 4         2838.29 15   \n",
       "4    4979.92 8      B F IJK MN P  0+    35 fs 2           3200.7 5   \n",
       "5    6276.20 7      B F IJK MN P  3+  0.78 ps 6  1658.2 4496.92 25   \n",
       "\n",
       "0              Iγ  γ mult.       Final level Final level Jπ  \n",
       "1             NaN      NaN               NaN            NaN  \n",
       "2             100       E2               0.0             0+  \n",
       "3             100     (E2)          1779.030             2+  \n",
       "4             100       E2          1779.030             2+  \n",
       "5  13.4 4 100.0 4  (M1+E2)  4617.86 1779.030           4+2+  "
      ]
     },
     "execution_count": 25,
     "metadata": {},
     "output_type": "execute_result"
    }
   ],
   "source": [
    "url = 'http://www.nndc.bnl.gov/chart/getdataset.jsp?nucleus=28SI&unc=nds'\n",
    "\n",
    "df = pd.read_html(url)\n",
    "df = df[0]\n",
    "\n",
    "names = df.iloc[0]\n",
    "names[8] = 'Final level Jπ'\n",
    "df.columns = names\n",
    "df = df[1:]\n",
    "df.head()"
   ]
  },
  {
   "cell_type": "code",
   "execution_count": null,
   "metadata": {
    "collapsed": true
   },
   "outputs": [],
   "source": []
  }
 ],
 "metadata": {
  "anaconda-cloud": {},
  "kernelspec": {
   "display_name": "Python [conda root]",
   "language": "python",
   "name": "conda-root-py"
  },
  "language_info": {
   "codemirror_mode": {
    "name": "ipython",
    "version": 3
   },
   "file_extension": ".py",
   "mimetype": "text/x-python",
   "name": "python",
   "nbconvert_exporter": "python",
   "pygments_lexer": "ipython3",
   "version": "3.5.2"
  }
 },
 "nbformat": 4,
 "nbformat_minor": 1
}
