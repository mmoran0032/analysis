{
 "cells": [
  {
   "cell_type": "markdown",
   "metadata": {},
   "source": [
    "Angular Correlations\n",
    "====================\n",
    "\n",
    "Following the work in Iliadis, here's how the angular correlations of my emitted alpha particles look like for the states I'm interested in."
   ]
  },
  {
   "cell_type": "code",
   "execution_count": 1,
   "metadata": {
    "collapsed": false
   },
   "outputs": [],
   "source": [
    "%matplotlib inline\n",
    "\n",
    "import matplotlib.pyplot as plt\n",
    "import numpy\n",
    "import sympy.physics.wigner as wigner\n",
    "from sympy import legendre"
   ]
  },
  {
   "cell_type": "code",
   "execution_count": 5,
   "metadata": {
    "collapsed": true
   },
   "outputs": [],
   "source": [
    "def F(n, L, Lprime, j, J):\n",
    "    return ((-1)**(j - J - 1) * numpy.sqrt((2 * L + 1) * (2 * Lprime + 1) * (2 * J + 1)) *\n",
    "            wigner.clebsch_gordan(L, Lprime, n, 1, -1, 0) * wigner.racah(J, J, L, Lprime, n, j))"
   ]
  },
  {
   "cell_type": "code",
   "execution_count": 2,
   "metadata": {
    "collapsed": false
   },
   "outputs": [
    {
     "data": {
      "text/plain": [
       "-3*sqrt(858)/286"
      ]
     },
     "execution_count": 2,
     "metadata": {},
     "output_type": "execute_result"
    }
   ],
   "source": [
    "wigner.clebsch_gordan(5, 5, 2, 1, -1, 0)"
   ]
  },
  {
   "cell_type": "code",
   "execution_count": 6,
   "metadata": {
    "collapsed": false,
    "scrolled": false
   },
   "outputs": [
    {
     "name": "stdout",
     "output_type": "stream",
     "text": [
      "n = 0, l_p = 0, l_a = 2: 0 0\n",
      "n = 0, l_p = 1, l_a = 2: 0 0\n",
      "n = 0, l_p = 2, l_a = 2: 0.707106781186548*sqrt(2) 0.408248290463863*sqrt(6)\n",
      "n = 0, l_p = 3, l_a = 2: 0 0\n",
      "n = 0, l_p = 4, l_a = 2: 0 0\n",
      "n = 0, l_p = 5, l_a = 2: 0 0\n",
      "n = 2, l_p = 0, l_a = 2: 0 0\n",
      "n = 2, l_p = 1, l_a = 2: 0 0\n",
      "n = 2, l_p = 2, l_a = 2: 0 -0.116642368703961*sqrt(21)\n",
      "n = 2, l_p = 3, l_a = 2: 0 -0.0690065559342354*sqrt(30)\n",
      "n = 2, l_p = 4, l_a = 2: 0 0\n",
      "n = 2, l_p = 5, l_a = 2: 0 0\n"
     ]
    }
   ],
   "source": [
    "for n in range(0, 4, 2):\n",
    "    for l_p in range(6):\n",
    "#         for l_alpha in range(5):\n",
    "        l_alpha = 2\n",
    "        print('n = {}, l_p = {}, l_a = {}:'.format(n, l_p, l_alpha), \n",
    "              F(n, l_p, l_alpha, 2.5, 0.5), F(n, l_p, l_alpha, 0.5, 2.5))"
   ]
  },
  {
   "cell_type": "code",
   "execution_count": 8,
   "metadata": {
    "collapsed": false
   },
   "outputs": [
    {
     "data": {
      "text/plain": [
       "0"
      ]
     },
     "execution_count": 8,
     "metadata": {},
     "output_type": "execute_result"
    }
   ],
   "source": [
    "F(2, 2, 5, 3, 2)"
   ]
  },
  {
   "cell_type": "code",
   "execution_count": 9,
   "metadata": {
    "collapsed": false
   },
   "outputs": [
    {
     "data": {
      "text/plain": [
       "-0.191662969499982*sqrt(14)"
      ]
     },
     "execution_count": 9,
     "metadata": {},
     "output_type": "execute_result"
    }
   ],
   "source": [
    "F(2, 5, 5, 3, 2)"
   ]
  },
  {
   "cell_type": "code",
   "execution_count": 10,
   "metadata": {
    "collapsed": false
   },
   "outputs": [
    {
     "data": {
      "text/plain": [
       "-0.71713716560063623"
      ]
     },
     "execution_count": 10,
     "metadata": {},
     "output_type": "execute_result"
    }
   ],
   "source": [
    "-0.191662969499982*numpy.sqrt(14)"
   ]
  },
  {
   "cell_type": "code",
   "execution_count": null,
   "metadata": {
    "collapsed": true
   },
   "outputs": [],
   "source": []
  }
 ],
 "metadata": {
  "anaconda-cloud": {},
  "kernelspec": {
   "display_name": "Python [conda root]",
   "language": "python",
   "name": "conda-root-py"
  },
  "language_info": {
   "codemirror_mode": {
    "name": "ipython",
    "version": 3
   },
   "file_extension": ".py",
   "mimetype": "text/x-python",
   "name": "python",
   "nbconvert_exporter": "python",
   "pygments_lexer": "ipython3",
   "version": "3.5.2"
  }
 },
 "nbformat": 4,
 "nbformat_minor": 1
}
