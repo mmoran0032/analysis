{
 "cells": [
  {
   "cell_type": "code",
   "execution_count": 1,
   "metadata": {
    "collapsed": true,
    "deletable": true,
    "editable": true
   },
   "outputs": [],
   "source": [
    "%matplotlib inline\n",
    "\n",
    "import matplotlib.pyplot as plt\n",
    "import numpy as np"
   ]
  },
  {
   "cell_type": "code",
   "execution_count": 2,
   "metadata": {
    "collapsed": true,
    "deletable": true,
    "editable": true
   },
   "outputs": [],
   "source": [
    "filename = '../additional_code/al_res_gwen.tsv'\n",
    "nmr, yields, energy = np.loadtxt(filename, unpack=True)"
   ]
  },
  {
   "cell_type": "code",
   "execution_count": 25,
   "metadata": {
    "collapsed": false
   },
   "outputs": [
    {
     "name": "stdout",
     "output_type": "stream",
     "text": [
      "# NMR       Y (arb)     E (keV)\r\n",
      "1664        42.7        1326.95\r\n",
      "1662        71.6        1323.76\r\n",
      "1660.9      73.4        1322.01\r\n",
      "1660        68.7        1320.58\r\n",
      "1659        67.5        1318.99\r\n",
      "1658        53.5        1317.40\r\n",
      "1658        38.8        1317.40\r\n",
      "1657.88      9.17       1317.21\r\n",
      "1657.8       2.88       1317.08\r\n",
      "1657         1.27       1315.81\r\n",
      "\r\n",
      "1660.1      47.3        1320.74\r\n",
      "1659        44.0        1318.99\r\n",
      "1658.6      47.5        1318.35\r\n",
      "1658.35     48.3        1317.95\r\n",
      "1658.1      44.2        1317.56\r\n",
      "1657.9      19.0        1317.24\r\n",
      "1657.7       1.36       1316.92\r\n"
     ]
    }
   ],
   "source": [
    "!cat $filename"
   ]
  },
  {
   "cell_type": "code",
   "execution_count": 3,
   "metadata": {
    "collapsed": false,
    "deletable": true,
    "editable": true
   },
   "outputs": [
    {
     "data": {
      "text/plain": [
       "array([ True,  True,  True,  True,  True,  True,  True,  True,  True,\n",
       "        True,  True,  True,  True,  True,  True,  True,  True], dtype=bool)"
      ]
     },
     "execution_count": 3,
     "metadata": {},
     "output_type": "execute_result"
    }
   ],
   "source": [
    "K = (45.493 + 45.502 + 45.512) / 3\n",
    "\n",
    "def get_energy(field, charge=1, mass=1.007825):\n",
    "    return (field * charge / K / np.sqrt(mass))**2\n",
    "\n",
    "np.isclose(get_energy(nmr), energy)"
   ]
  },
  {
   "cell_type": "code",
   "execution_count": 4,
   "metadata": {
    "collapsed": false,
    "deletable": true,
    "editable": true
   },
   "outputs": [],
   "source": [
    "nmr = np.flip(nmr, axis=0)\n",
    "yields = np.flip(yields, axis=0)\n",
    "energy = np.flip(energy, axis=0)"
   ]
  },
  {
   "cell_type": "code",
   "execution_count": 6,
   "metadata": {
    "collapsed": false,
    "deletable": true,
    "editable": true
   },
   "outputs": [
    {
     "data": {
      "text/plain": [
       "<matplotlib.collections.PathCollection at 0x7ff4584fd6a0>"
      ]
     },
     "execution_count": 6,
     "metadata": {},
     "output_type": "execute_result"
    },
    {
     "data": {
      "image/png": "[encoded data removed]",
      "text/plain": [
       "<matplotlib.figure.Figure at 0x7ff45b8e8048>"
      ]
     },
     "metadata": {},
     "output_type": "display_data"
    }
   ],
   "source": [
    "plt.scatter(energy[:-10], yields[:-10])\n",
    "plt.scatter(energy[-10:], yields[-10:])"
   ]
  },
  {
   "cell_type": "code",
   "execution_count": 7,
   "metadata": {
    "collapsed": false,
    "deletable": true,
    "editable": true
   },
   "outputs": [
    {
     "data": {
      "text/plain": [
       "(array([ 1316.92,  1317.24,  1317.56,  1317.95,  1318.35,  1318.99,  1320.74]),\n",
       " array([  1.36,  19.  ,  44.2 ,  48.3 ,  47.5 ,  44.  ,  47.3 ]))"
      ]
     },
     "execution_count": 7,
     "metadata": {},
     "output_type": "execute_result"
    }
   ],
   "source": [
    "e_1, y_1 = energy[:-10], yields[:-10]\n",
    "e_2, y_2 = energy[-10:-1], yields[-10:-1]\n",
    "e_1, y_1"
   ]
  },
  {
   "cell_type": "code",
   "execution_count": 15,
   "metadata": {
    "collapsed": false,
    "deletable": true,
    "editable": true
   },
   "outputs": [
    {
     "data": {
      "text/plain": [
       "(46.260000000000005, 69.86666666666666)"
      ]
     },
     "execution_count": 15,
     "metadata": {},
     "output_type": "execute_result"
    }
   ],
   "source": [
    "plateau_1 = np.mean(y_1[2:])\n",
    "plateau_2 = np.mean(y_2[5:-1])\n",
    "plateau_1, plateau_2"
   ]
  },
  {
   "cell_type": "code",
   "execution_count": 10,
   "metadata": {
    "collapsed": false
   },
   "outputs": [
    {
     "data": {
      "text/plain": [
       "(array([ 1317.08,  1317.21,  1317.4 ,  1317.4 ]),\n",
       " array([  2.88,   9.17,  38.8 ,  53.5 ]))"
      ]
     },
     "execution_count": 10,
     "metadata": {},
     "output_type": "execute_result"
    }
   ],
   "source": [
    "e_2[1:5], y_2[1:5]"
   ]
  },
  {
   "cell_type": "code",
   "execution_count": 11,
   "metadata": {
    "collapsed": false,
    "deletable": true,
    "editable": true
   },
   "outputs": [
    {
     "data": {
      "text/plain": [
       "(array([  6.69375000e+01,  -8.81512325e+04]),\n",
       " array([  1.15455598e+02,  -1.52064628e+05]))"
      ]
     },
     "execution_count": 11,
     "metadata": {},
     "output_type": "execute_result"
    }
   ],
   "source": [
    "pars_1 = np.polyfit(e_1[:3], y_1[:3], deg=1)\n",
    "pars_2 = np.polyfit(e_2[1:4], y_2[1:4], deg=1)\n",
    "pars_1, pars_2"
   ]
  },
  {
   "cell_type": "code",
   "execution_count": 19,
   "metadata": {
    "collapsed": false,
    "deletable": true,
    "editable": true
   },
   "outputs": [
    {
     "data": {
      "text/plain": [
       "(0, 80)"
      ]
     },
     "execution_count": 19,
     "metadata": {},
     "output_type": "execute_result"
    },
    {
     "data": {
      "image/png": "[encoded data removed]",
      "text/plain": [
       "<matplotlib.figure.Figure at 0x7ff458406b00>"
      ]
     },
     "metadata": {},
     "output_type": "display_data"
    }
   ],
   "source": [
    "x_test = np.linspace(1316.75, 1318.0)\n",
    "\n",
    "plt.scatter(e_1, y_1)\n",
    "plt.scatter(e_2, y_2)\n",
    "plt.plot(x_test, np.polyval(pars_1, x_test), 'k-')\n",
    "plt.plot(x_test, np.polyval(pars_2, x_test), 'k-')\n",
    "plt.ylim(0, 80)"
   ]
  },
  {
   "cell_type": "code",
   "execution_count": 23,
   "metadata": {
    "collapsed": false,
    "deletable": true,
    "editable": true
   },
   "outputs": [
    {
     "name": "stdout",
     "output_type": "stream",
     "text": [
      "5.5512 40.7088\n"
     ]
    },
    {
     "data": {
      "text/plain": [
       "(0.23881893182804442, 0.56122448979590445)"
      ]
     },
     "execution_count": 23,
     "metadata": {},
     "output_type": "execute_result"
    }
   ],
   "source": [
    "upper, lower = plateau_1 * 0.88, plateau_1 * 0.12\n",
    "print(lower, upper)\n",
    "\n",
    "indices = np.searchsorted(np.polyval(pars_1, x_test), (upper, lower))\n",
    "FWHM = x_test[indices + 1][0] - x_test[indices][1]\n",
    "beam_sigma = FWHM / 2.35\n",
    "beam_sigma, FWHM"
   ]
  },
  {
   "cell_type": "code",
   "execution_count": 24,
   "metadata": {
    "collapsed": false,
    "deletable": true,
    "editable": true
   },
   "outputs": [
    {
     "name": "stdout",
     "output_type": "stream",
     "text": [
      "8.384 61.4826666667\n"
     ]
    },
    {
     "data": {
      "text/plain": [
       "(0.20625271385152372, 0.48469387755108073)"
      ]
     },
     "execution_count": 24,
     "metadata": {},
     "output_type": "execute_result"
    }
   ],
   "source": [
    "upper, lower = plateau_2 * 0.88, plateau_2 * 0.12\n",
    "print(lower, upper)\n",
    "\n",
    "indices = np.searchsorted(np.polyval(pars_2, x_test), (upper, lower))\n",
    "FWHM = x_test[indices + 1][0] - x_test[indices][1]\n",
    "beam_sigma = FWHM / 2.35\n",
    "beam_sigma, FWHM"
   ]
  },
  {
   "cell_type": "code",
   "execution_count": null,
   "metadata": {
    "collapsed": true
   },
   "outputs": [],
   "source": []
  }
 ],
 "metadata": {
  "anaconda-cloud": {},
  "kernelspec": {
   "display_name": "Python [conda root]",
   "language": "python",
   "name": "conda-root-py"
  },
  "language_info": {
   "codemirror_mode": {
    "name": "ipython",
    "version": 3
   },
   "file_extension": ".py",
   "mimetype": "text/x-python",
   "name": "python",
   "nbconvert_exporter": "python",
   "pygments_lexer": "ipython3",
   "version": "3.5.2"
  }
 },
 "nbformat": 4,
 "nbformat_minor": 1
}
